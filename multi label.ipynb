{
 "cells": [
  {
   "cell_type": "code",
   "execution_count": 100,
   "metadata": {
    "collapsed": true,
    "pycharm": {
     "name": "#%%\n"
    }
   },
   "outputs": [],
   "source": [
    "import pandas as pd\n",
    "import numpy as np\n",
    "import tensorflow as tf\n",
    "from tensorflow.keras.layers import *\n",
    "from tensorflow.keras import Model, models, mixed_precision\n",
    "from tensorflow.keras.utils import plot_model\n",
    "import tensorflow_text\n",
    "import tensorflow_hub as hub\n",
    "import tensorflow_addons as tfa\n",
    "import glob\n",
    "from sklearn.utils import shuffle\n",
    "\n",
    "physical_devices = tf.config.experimental.list_physical_devices('GPU')\n",
    "config = tf.config.experimental.set_memory_growth(physical_devices[0], True)\n",
    "mixed_precision.set_global_policy('mixed_float16')\n",
    "\n",
    "\n",
    "# all_files = glob.glob(\"*MA.csv\")\n",
    "# li = []\n",
    "# for filename in all_files:\n",
    "#     df = pd.read_csv(filename, index_col=None, header=0)\n",
    "#     li.append(df)\n",
    "#\n",
    "# df = pd.concat(li, axis=0, ignore_index=True)\n",
    "# df.dropna(inplace=True)\n",
    "# df = df[['chapter_name', 'qns']]\n",
    "# df.to_csv('all_qns.csv', index=False)\n",
    "\n",
    "df = pd.read_csv('all_qns_multi_label.csv')\n",
    "labels = df['chapter_name'].str.lower().tolist()\n",
    "labels = [[*i.split(',')] for i in labels]\n",
    "classes = []\n",
    "for i in labels:\n",
    "    for j in i:\n",
    "        if j not in classes:\n",
    "            classes.append(j)\n",
    "classes_index = {v: i for i, v in enumerate(classes)}\n",
    "def multi_hot_encode(label):\n",
    "    label_encoded = [classes_index[x] for x in label]\n",
    "    label_encoded = tf.reduce_max(tf.one_hot(label_encoded, len(classes)), axis=0)\n",
    "    return label_encoded\n",
    "\n",
    "labeled_df = pd.DataFrame()\n",
    "labels = [multi_hot_encode(i) for i in labels]\n",
    "\n",
    "def clean(qns):\n",
    "    import re\n",
    "    qns = re.sub(r'[^\\x00-\\x7F]+', ' ', qns)  # clean unicode stuff\n",
    "    qns = re.sub(r'\\d+', ' 0 ', qns)  # replace all numbers with 0\n",
    "    qns = re.sub(r'_+', '_', qns)  # replace all underscores with single underscore\n",
    "    qns = qns.split('(Note to students')[0].split('Notes to student')[0].split('Note to students')[0].split('Note to student')[0].split('Notes to students')[0].split('(Separate ')[0]\n",
    "    qns = qns.strip()\n",
    "    return qns\n",
    "\n",
    "\n",
    "qns = df['qns'].apply(clean)\n",
    "\n",
    "labeled_df['label'] = pd.Series(labels)\n",
    "labeled_df['qns'] = qns\n",
    "labeled_df.dropna(inplace=True)\n",
    "labeled_df.to_csv('multi_labeled_df.csv', index=False)\n",
    "\n",
    "# shuffle the dataset\n",
    "X, Y = shuffle(qns, labels)\n",
    "\n",
    "\n",
    "# labeled_df['label'] = pd.Series(labels)\n",
    "# labeled_df['qns'] = df['qns'].apply(clean)\n",
    "# labeled_df.dropna(inplace=True)\n",
    "# labeled_df.to_csv('multi_labeled_df.csv', index=False)\n",
    "# labeled_df = labeled_df.sample(frac=1).reset_index(drop=True)  # shuffle"
   ]
  },
  {
   "cell_type": "code",
   "execution_count": 97,
   "metadata": {
    "collapsed": false,
    "pycharm": {
     "name": "#%%\n"
    }
   },
   "outputs": [],
   "source": [
    "# weighted BCE\n",
    "def weighted_binary_crossentropy(pos_weight=1.):\n",
    "\n",
    "    # y_pred is the raw output of the logits layer\n",
    "    def _weighted_binary_crossentropy(y_true, y_pred):\n",
    "        return tf.keras.backend.mean(tf.nn.weighted_cross_entropy_with_logits(labels=y_true, logits=y_pred, pos_weight=pos_weight), axis=-1)\n",
    "    \n",
    "    return _weighted_binary_crossentropy\n",
    "\n",
    "loss = weighted_binary_crossentropy(pos_weight=15.)\n",
    "\n",
    "opt = tf.keras.optimizers.Adam(learning_rate=1e-3)\n",
    "batch_size = 128\n",
    "epochs = 100\n",
    "callbacks = [\n",
    "    tf.keras.callbacks.EarlyStopping(monitor='val_accuracy', min_delta=0, patience=15, verbose=1,\n",
    "                                     mode='auto', baseline=None, restore_best_weights=True),\n",
    "    tf.keras.callbacks.ReduceLROnPlateau(monitor='val_accuracy', factor=0.1, patience=12, verbose=1)\n",
    "]"
   ]
  },
  {
   "cell_type": "code",
   "execution_count": 98,
   "metadata": {
    "collapsed": false,
    "pycharm": {
     "name": "#%%\n"
    }
   },
   "outputs": [],
   "source": [
    "text_input = tf.keras.layers.Input(shape=(), dtype=tf.string)\n",
    "preprocessing_layer = hub.KerasLayer('https://tfhub.dev/tensorflow/bert_en_uncased_preprocess/3')\n",
    "encoder_inputs = preprocessing_layer(text_input)\n",
    "encoder = hub.KerasLayer('https://tfhub.dev/google/experts/bert/wiki_books/qnli/2', trainable=False)\n",
    "outputs = encoder(encoder_inputs)\n",
    "x = outputs['pooled_output']\n",
    "x = Dropout(0.2)(x)\n",
    "x = Dense(512, activation='relu')(x)\n",
    "x = Dropout(0.2)(x)\n",
    "x = Dense(512, activation='relu')(x)\n",
    "x = Dropout(0.2)(x)\n",
    "xOut = Dense(len(classes), activation=None)(x)\n",
    "model = Model(text_input, xOut)\n",
    "model.compile(loss=loss, optimizer=opt, metrics=['accuracy'])"
   ]
  },
  {
   "cell_type": "code",
   "execution_count": null,
   "metadata": {
    "collapsed": false,
    "pycharm": {
     "name": "#%%\n"
    }
   },
   "outputs": [],
   "source": [
    "plot_model(model, show_dtype=True, show_shapes=True, show_layer_names=True, to_file='model.png')\n",
    "model.summary()\n",
    "model.fit(np.array(X), np.asarray(Y), batch_size=batch_size, epochs=epochs, callbacks=callbacks, verbose=1, use_multiprocessing=True, validation_split=0.2)"
   ]
  },
  {
   "cell_type": "code",
   "execution_count": null,
   "metadata": {
    "collapsed": false,
    "pycharm": {
     "name": "#%%\n"
    }
   },
   "outputs": [],
   "source": [
    "model.save('model.h5')\n",
    "question = 'The height of an isosceles triangle with a base length of 8cm is 3cm. What is the perimeter of a similar triangle with base 4cm'\n",
    "sigmoid_out = model(tf.constant([question])).numpy()[0]\n",
    "confidence = [sigmoid_out.index(i) for i in sigmoid_out if i > 0.5]\n",
    "class_predicted = [classes[confidence.index(i)] for i in confidence]\n",
    "for class_, conf in zip(class_predicted, confidence):\n",
    "    print(f'Class predicted: {class_} with confidence {conf*100:.3f}%')\n",
    "conf_list = {}\n",
    "for i in range(len(classes)):\n",
    "    conf_list.update({classes[i]: f'{sigmoid_out[i]*100:.3f}%'})\n",
    "\n",
    "conf_list"
   ]
  }
 ],
 "metadata": {
  "kernelspec": {
   "display_name": "Python 3",
   "language": "python",
   "name": "python3"
  },
  "language_info": {
   "codemirror_mode": {
    "name": "ipython",
    "version": 3
   },
   "file_extension": ".py",
   "mimetype": "text/x-python",
   "name": "python",
   "nbconvert_exporter": "python",
   "pygments_lexer": "ipython3",
   "version": "3.8.0"
  }
 },
 "nbformat": 4,
 "nbformat_minor": 0
}
