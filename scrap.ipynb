{
 "cells": [
  {
   "cell_type": "code",
   "execution_count": 2,
   "metadata": {
    "collapsed": true,
    "pycharm": {
     "name": "#%%\n"
    }
   },
   "outputs": [
    {
     "name": "stdout",
     "output_type": "stream",
     "text": [
      "Chrome Web Driver loaded. Version: 96.0.4664.110\n",
      "\n",
      "Scraping P3-MA...\n",
      "Total 1364 questions. scraping now...\n",
      "P3-MA scraped.\n",
      "Scraping P4-MA...\n",
      "Total 334 questions. scraping now...\n",
      "P4-MA scraped.\n",
      "Scraping P5-MA...\n",
      "Total 698 questions. scraping now...\n",
      "P5-MA scraped.\n"
     ]
    }
   ],
   "source": [
    "from bs4 import BeautifulSoup\n",
    "import pandas as pd\n",
    "import selenium\n",
    "from selenium import webdriver\n",
    "from selenium.webdriver.chrome.options import Options\n",
    "\n",
    "opts = Options()\n",
    "opts.add_experimental_option('prefs', {'intl.accept_languages': 'en,en_US'})\n",
    "driver = webdriver.Chrome(options=opts)\n",
    "driver.minimize_window()\n",
    "print(f'Chrome Web Driver loaded. Version: {driver.capabilities[\"browserVersion\"]}\\n')  # use \"version\" on Linux\n",
    "\n",
    "\n",
    "def request_page(url):\n",
    "    \"\"\" Returns BeautifulSoup4 Objects (soup)\"\"\"\n",
    "    driver.get(url)\n",
    "    return BeautifulSoup(driver.page_source, \"html.parser\")\n",
    "\n",
    "\n",
    "URLS = {\n",
    "    # 'P1-MA': 'https://www.singaporemathguru.com/module2?cr=07OeW7mqKNGdUhVv6Tth',\n",
    "    #     'P2-MA': 'https://www.singaporemathguru.com/module2?cr=1BPikqvu1N9jXPXyQEyf',\n",
    "        'P3-MA': 'https://www.singaporemathguru.com/module2?cr=0LX7CC6GLcQzQXo2XXJ2',\n",
    "        'P4-MA': 'https://www.singaporemathguru.com/module2?cr=JHiNPh7RNFy3gQEgLZo0',\n",
    "        'P5-MA': 'https://www.singaporemathguru.com/module2?cr=WlbWcVqYOrG64YHqSNDv',}\n",
    "        #'P6-MA': 'https://www.singaporemathguru.com/module2?cr=9jN6iUGLBbnpvqPLYOiB'}\n",
    "\n",
    "\n",
    "\n",
    "\n",
    "def scrap(lvl, URL):\n",
    "    soup = request_page(URL)\n",
    "    exercises = soup.find_all(\"ul\", class_=\"exercise\")\n",
    "\n",
    "    chapter_names = []\n",
    "    qns_with_label = []\n",
    "    domain = 'https://www.singaporemathguru.com/'\n",
    "    for exercise in exercises:\n",
    "        chapter_name = ' '.join(exercise.find('li').find('span').get_text().strip().split()[:-2])\n",
    "        chapter_names.append(chapter_name)\n",
    "        qns_lists = exercise.find_all(\"li\", class_=\"\")\n",
    "        for qns_list in qns_lists:\n",
    "            for i in qns_list.find_all('a', class_=\"\"):\n",
    "                qns_with_label.append({'chapter_name': chapter_name, 'link': domain+i['href']})\n",
    "\n",
    "    print(f'Total {len(qns_with_label)} questions. scraping now...')\n",
    "    for i in range(len(qns_with_label)):\n",
    "        question_soup = request_page(qns_with_label[i]['link'])\n",
    "        question = question_soup.find('div', class_=\"span10\")\n",
    "        question_str = ' '.join([p.get_text(strip=True) for p in question.find_all('p', class_='')])\n",
    "        ans = ' '.join([p.get_text(strip=True) for p in question.find_all('div', id='div_view_answer')]).split(':')[-1]\n",
    "        qns_with_label[i]['qns'] = question_str\n",
    "        qns_with_label[i]['ans'] = ans\n",
    "\n",
    "    df = pd.DataFrame.from_dict(qns_with_label)\n",
    "    df.to_csv(f'{lvl}.csv', index=False)\n",
    "\n",
    "for i, v in URLS.items():\n",
    "    print(f'Scraping {i}...')\n",
    "    scrap(i, v)\n",
    "    print(f'{i} scraped.')"
   ]
  }
 ],
 "metadata": {
  "kernelspec": {
   "display_name": "Python 3",
   "language": "python",
   "name": "python3"
  },
  "language_info": {
   "codemirror_mode": {
    "name": "ipython",
    "version": 2
   },
   "file_extension": ".py",
   "mimetype": "text/x-python",
   "name": "python",
   "nbconvert_exporter": "python",
   "pygments_lexer": "ipython2",
   "version": "2.7.6"
  }
 },
 "nbformat": 4,
 "nbformat_minor": 0
}